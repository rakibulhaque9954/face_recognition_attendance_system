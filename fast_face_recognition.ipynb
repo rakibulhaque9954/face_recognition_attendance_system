{
 "cells": [
  {
   "cell_type": "markdown",
   "metadata": {},
   "source": [
    "# Imports"
   ]
  },
  {
   "cell_type": "code",
   "execution_count": 2,
   "metadata": {},
   "outputs": [],
   "source": [
    "import os\n",
    "import cv2\n",
    "import numpy as np\n",
    "import pandas as pd\n",
    "\n",
    "from insightface.app import FaceAnalysis"
   ]
  },
  {
   "cell_type": "markdown",
   "metadata": {},
   "source": [
    "# Configure Model"
   ]
  },
  {
   "cell_type": "code",
   "execution_count": 3,
   "metadata": {},
   "outputs": [
    {
     "name": "stderr",
     "output_type": "stream",
     "text": [
      "/Users/boss/miniconda3/envs/tensorflow/lib/python3.10/site-packages/onnxruntime/capi/onnxruntime_inference_collection.py:69: UserWarning: Specified provider 'CUDAExecutionProvider' is not in available provider names.Available providers: 'AzureExecutionProvider, CPUExecutionProvider'\n",
      "  warnings.warn(\n"
     ]
    },
    {
     "name": "stdout",
     "output_type": "stream",
     "text": [
      "Applied providers: ['CPUExecutionProvider'], with options: {'CPUExecutionProvider': {}}\n",
      "find model: /Users/boss/Desktop/Notes/4_attendance_app/insightface_model/models/buffalo_l/models/buffalo_l/1k3d68.onnx landmark_3d_68 ['None', 3, 192, 192] 0.0 1.0\n",
      "Applied providers: ['CPUExecutionProvider'], with options: {'CPUExecutionProvider': {}}\n",
      "find model: /Users/boss/Desktop/Notes/4_attendance_app/insightface_model/models/buffalo_l/models/buffalo_l/2d106det.onnx landmark_2d_106 ['None', 3, 192, 192] 0.0 1.0\n",
      "Applied providers: ['CPUExecutionProvider'], with options: {'CPUExecutionProvider': {}}\n",
      "find model: /Users/boss/Desktop/Notes/4_attendance_app/insightface_model/models/buffalo_l/models/buffalo_l/det_10g.onnx detection [1, 3, '?', '?'] 127.5 128.0\n",
      "Applied providers: ['CPUExecutionProvider'], with options: {'CPUExecutionProvider': {}}\n",
      "find model: /Users/boss/Desktop/Notes/4_attendance_app/insightface_model/models/buffalo_l/models/buffalo_l/genderage.onnx genderage ['None', 3, 96, 96] 0.0 1.0\n",
      "Applied providers: ['CPUExecutionProvider'], with options: {'CPUExecutionProvider': {}}\n",
      "find model: /Users/boss/Desktop/Notes/4_attendance_app/insightface_model/models/buffalo_l/models/buffalo_l/w600k_r50.onnx recognition ['None', 3, 112, 112] 127.5 127.5\n",
      "set det-size: (640, 640)\n"
     ]
    }
   ],
   "source": [
    "# buffalo_l model\n",
    "\n",
    "model_l = FaceAnalysis(name='buffalo_l',\n",
    "                        root='/Users/boss/Desktop/Notes/4_attendance_app/insightface_model/models/buffalo_l', \n",
    "                        providers=['CUDAExecutionProvider'])\n",
    "\n",
    "model_l.prepare(ctx_id=0, det_size=(640, 640), det_thresh=0.5) # input size"
   ]
  },
  {
   "cell_type": "markdown",
   "metadata": {},
   "source": [
    "# Extract Facial Fetaures and Labels"
   ]
  },
  {
   "cell_type": "code",
   "execution_count": 14,
   "metadata": {},
   "outputs": [
    {
     "name": "stdout",
     "output_type": "stream",
     "text": [
      "['teacher-Barack_Obama', 'student-Angelina Jolie', 'student-Chris_Evans', 'teacher-Morgan_Freeman', 'student-Scarlett Johansson']\n"
     ]
    }
   ],
   "source": [
    "images_dir = '/Users/boss/Desktop/Notes/2_Fast_Face_Recognition_System/images'\n",
    "list_dir = os.listdir(path=images_dir)\n",
    "print(list_dir)"
   ]
  },
  {
   "cell_type": "code",
   "execution_count": 18,
   "metadata": {},
   "outputs": [
    {
     "name": "stdout",
     "output_type": "stream",
     "text": [
      "{'Barack_Obama': 'teacher', 'Angelina Jolie': 'student', 'Chris_Evans': 'student', 'Morgan_Freeman': 'teacher', 'Scarlett Johansson': 'student'}\n"
     ]
    }
   ],
   "source": [
    "# extracting names from listed directories\n",
    "role_and_name = {name.split('-')[1].replace('_', ' '): name.split('-')[0] for name in list_dir if '-' in name}\n",
    "print(role_and_name)"
   ]
  },
  {
   "cell_type": "markdown",
   "metadata": {},
   "source": [
    "# Data Preparation"
   ]
  },
  {
   "cell_type": "code",
   "execution_count": null,
   "metadata": {},
   "outputs": [],
   "source": []
  }
 ],
 "metadata": {
  "kernelspec": {
   "display_name": "Python 3.10 (tensorflow)",
   "language": "python",
   "name": "tensorflow"
  },
  "language_info": {
   "codemirror_mode": {
    "name": "ipython",
    "version": 3
   },
   "file_extension": ".py",
   "mimetype": "text/x-python",
   "name": "python",
   "nbconvert_exporter": "python",
   "pygments_lexer": "ipython3",
   "version": "3.10.12"
  }
 },
 "nbformat": 4,
 "nbformat_minor": 2
}
